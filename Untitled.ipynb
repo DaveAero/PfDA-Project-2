{
 "cells": [
  {
   "cell_type": "markdown",
   "id": "eac3fdcc",
   "metadata": {},
   "source": [
    "# Wisconsin Breast Cancer dataset"
   ]
  },
  {
   "cell_type": "code",
   "execution_count": 4,
   "id": "db00b424",
   "metadata": {},
   "outputs": [],
   "source": [
    "import pandas as pd"
   ]
  },
  {
   "cell_type": "code",
   "execution_count": 5,
   "id": "89c66399",
   "metadata": {},
   "outputs": [],
   "source": [
    "# Loading data from CSV file\n",
    "wbc = pd.read_csv('https://archive.ics.uci.edu/ml/machine-learning-databases/breast-cancer-wisconsin/breast-cancer-wisconsin.data')"
   ]
  },
  {
   "cell_type": "code",
   "execution_count": 6,
   "id": "938a7cc4",
   "metadata": {},
   "outputs": [
    {
     "name": "stdout",
     "output_type": "stream",
     "text": [
      "     1000025  5   1  1.1  1.2  2 1.3   3  1.4  1.5  2.1\n",
      "0    1002945  5   4    4    5  7  10   3    2    1    2\n",
      "1    1015425  3   1    1    1  2   2   3    1    1    2\n",
      "2    1016277  6   8    8    1  3   4   3    7    1    2\n",
      "3    1017023  4   1    1    3  2   1   3    1    1    2\n",
      "4    1017122  8  10   10    8  7  10   9    7    1    4\n",
      "..       ... ..  ..  ...  ... ..  ..  ..  ...  ...  ...\n",
      "693   776715  3   1    1    1  3   2   1    1    1    2\n",
      "694   841769  2   1    1    1  2   1   1    1    1    2\n",
      "695   888820  5  10   10    3  7   3   8   10    2    4\n",
      "696   897471  4   8    6    4  3   4  10    6    1    4\n",
      "697   897471  4   8    8    5  4   5  10    4    1    4\n",
      "\n",
      "[698 rows x 11 columns]\n"
     ]
    }
   ],
   "source": [
    "print(wbc)"
   ]
  },
  {
   "cell_type": "code",
   "execution_count": null,
   "id": "01fb7132",
   "metadata": {},
   "outputs": [],
   "source": []
  }
 ],
 "metadata": {
  "kernelspec": {
   "display_name": "Python 3 (ipykernel)",
   "language": "python",
   "name": "python3"
  },
  "language_info": {
   "codemirror_mode": {
    "name": "ipython",
    "version": 3
   },
   "file_extension": ".py",
   "mimetype": "text/x-python",
   "name": "python",
   "nbconvert_exporter": "python",
   "pygments_lexer": "ipython3",
   "version": "3.9.13"
  }
 },
 "nbformat": 4,
 "nbformat_minor": 5
}
